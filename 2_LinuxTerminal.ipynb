{
 "cells": [
  {
   "cell_type": "markdown",
   "metadata": {},
   "source": [
    "# Linux Terminal\n",
    "\n",
    "The linux terminal window is where we are going to need to be to install python and python packages and maintain our directory structure and access and navigate on remote machines where we may be running our code as well as manage running processes on the machine.  This guide is fairly brief but will give you enough to start with.\n",
    "\n",
    "## Basic Navigation\n",
    "\n",
    "When you open a terminal window you will get a window with a command prompt and you will usually be in your home directory.  The first this we need to do is find out where we are so we use `pwd` (<b>p</b>rint <b>w</b>orking **d**irectory)"
   ]
  },
  {
   "cell_type": "code",
   "execution_count": null,
   "metadata": {},
   "outputs": [],
   "source": [
    "pwd"
   ]
  },
  {
   "cell_type": "markdown",
   "metadata": {},
   "source": [
    "This tells us where we are.  Next we need to move about so first we need to know where we could go with `ls` (<b>l</b>i<b>s</b>t) which tells us what is in the directory we are in"
   ]
  },
  {
   "cell_type": "code",
   "execution_count": null,
   "metadata": {},
   "outputs": [],
   "source": [
    "ls"
   ]
  },
  {
   "cell_type": "markdown",
   "metadata": {},
   "source": [
    "now including hidden files"
   ]
  },
  {
   "cell_type": "code",
   "execution_count": null,
   "metadata": {},
   "outputs": [],
   "source": [
    "ls -a"
   ]
  },
  {
   "cell_type": "markdown",
   "metadata": {},
   "source": [
    "in long format"
   ]
  },
  {
   "cell_type": "code",
   "execution_count": null,
   "metadata": {},
   "outputs": [],
   "source": [
    "ls -l"
   ]
  },
  {
   "cell_type": "markdown",
   "metadata": {},
   "source": [
    "The first 10 charater part is the permissions (`drwxrwxrwx` would mean <b>d</b>irectory <b>r</b>ead <b>w</b>rite e<b>x</b>ecute at `user`, then `group`, then `other` level.  If a letter is replaced by \"-\" then permision is denied for that set of users) then owner, group, size, date last accessed, and filename.  \n",
    "\n",
    "Permissions can be changed with `chmod` which works on the binary number so `chmod 644 file` makes file readable by anyone and writable by the owner only. This because `6` in binary is `110` which translates to `rw-` (`1` is on `0` off) for user and 4 in binary is `100` which translates to `r--` for everyone else so 664 is `-rw-r--r--`.  It also works in symbolic mode where the same command would be `chmod u=rw,go=r file` see `man chmod` for many other options. The `d` cannot be changed (it's either a directory or it's not and `chmod` can't do much about that).\n",
    "\n",
    "Now in long format, by time, in reverse order, including hidden"
   ]
  },
  {
   "cell_type": "raw",
   "metadata": {},
   "source": [
    "ls -ltra"
   ]
  },
  {
   "cell_type": "markdown",
   "metadata": {},
   "source": [
    "The same but only for files called `hello.py`"
   ]
  },
  {
   "cell_type": "code",
   "execution_count": null,
   "metadata": {},
   "outputs": [],
   "source": [
    "ls -ltra hello.py"
   ]
  },
  {
   "cell_type": "markdown",
   "metadata": {},
   "source": [
    "or all files ending in `.py`"
   ]
  },
  {
   "cell_type": "code",
   "execution_count": null,
   "metadata": {},
   "outputs": [],
   "source": [
    "ls -ltra *.py"
   ]
  },
  {
   "cell_type": "markdown",
   "metadata": {},
   "source": [
    "Here `*` is a wildcard in that it can match any number or characters (including none). \n",
    "Others are `?` which matches one character so `ma?` would match \"mat\", \"map\" and \"man\" but not \"mast\".  \n",
    "\n",
    "`[]` matches any of the contents so `m[uao]m` matches \"mum\", \"mam\", \"mom\".  You can also use dash to indicate a range. So `[0-9]` matches any numeral and `[a-z]` matches any letter.  `!` negates the match so `[!9]` will match all but \"9\".\n",
    "\n",
    "{} is a list of things, comma seperated without spaces. \n",
    "\n",
    "Finally `\\` is used to make special symbols literal so if you wanted to match `?` you would use `\\?`\n",
    "\n",
    "Also, options (bit after the dash) can be input in any order\n",
    "\n",
    "To get a list of all possible options for a command you just need add `man` before it to consult the **man**ual pages.   Eg."
   ]
  },
  {
   "cell_type": "code",
   "execution_count": null,
   "metadata": {},
   "outputs": [],
   "source": [
    "man ls"
   ]
  },
  {
   "cell_type": "markdown",
   "metadata": {},
   "source": [
    "The manual pages can be exited using `q`.\n",
    "\n",
    "Now we need to navigate about which we can do using the `cd` (<b>c</b>hange <b>d</b>irectory) command"
   ]
  },
  {
   "cell_type": "code",
   "execution_count": null,
   "metadata": {},
   "outputs": [],
   "source": [
    "cd some_directory"
   ]
  },
  {
   "cell_type": "markdown",
   "metadata": {},
   "source": [
    "To get back one level"
   ]
  },
  {
   "cell_type": "code",
   "execution_count": null,
   "metadata": {},
   "outputs": [],
   "source": [
    "cd .."
   ]
  },
  {
   "cell_type": "markdown",
   "metadata": {},
   "source": [
    "Or many levels"
   ]
  },
  {
   "cell_type": "code",
   "execution_count": null,
   "metadata": {},
   "outputs": [],
   "source": [
    "cd ../../../../.."
   ]
  },
  {
   "cell_type": "markdown",
   "metadata": {},
   "source": [
    "Or return to the home directory"
   ]
  },
  {
   "cell_type": "code",
   "execution_count": null,
   "metadata": {},
   "outputs": [],
   "source": [
    "cd"
   ]
  },
  {
   "cell_type": "markdown",
   "metadata": {},
   "source": [
    "This allows tab completion so `cd m<\\tab>` would match all directories with `m*` and complete as much as is unique which is pretty helpful.  When changing directory to something like \"My Documents\" we need to treat the space as literal otherwise it thinks you've asked to change into two directories which doesn't make sense.  For this we can either use:"
   ]
  },
  {
   "cell_type": "code",
   "execution_count": null,
   "metadata": {},
   "outputs": [],
   "source": [
    "cd \"My Documents\"\n",
    "cd My\\ Documents"
   ]
  },
  {
   "cell_type": "markdown",
   "metadata": {},
   "source": [
    "Next we might want to create or destroy files.  `touch` will create a blank file and `rm` (<b>r</b>e<b>m</b>ove) to delete it (`touch` also lets you edit the file's time-stamp which is helpful if you need to prove you were busy coding when the diamonds went missing).  For directories use `mkdir` and `rmdir`"
   ]
  },
  {
   "cell_type": "code",
   "execution_count": null,
   "metadata": {},
   "outputs": [],
   "source": [
    "mkdir tmp\n",
    "cd tmp\n",
    "touch testfile.txt"
   ]
  },
  {
   "cell_type": "code",
   "execution_count": null,
   "metadata": {},
   "outputs": [],
   "source": [
    "cd ..\n",
    "rm tmp/testfile.txt\n",
    "rmdir tmp"
   ]
  },
  {
   "cell_type": "markdown",
   "metadata": {},
   "source": [
    "These all accept wild cards so `rm *.out` removes all files ending in `.out`.  `rm` will also remove empty directories and with `-r` option (<b>r</b>ecursive) will delete the directory and everything in it.  You can also disable confirmation with `-f` (<b>f</b>orce).  Be \\*VERY\\* careful with this. `rm -rf *` will remove all files and directories from this directory up without confirmation.  This cannot be reversed.\n",
    "\n",
    "We can make copies with `cp` (<b>c</b>o<b>p</b>y)"
   ]
  },
  {
   "cell_type": "code",
   "execution_count": null,
   "metadata": {},
   "outputs": [],
   "source": [
    "touch a.txt\n",
    "cp a.txt b.txt\n",
    "ls -ltr *.txt"
   ]
  },
  {
   "cell_type": "markdown",
   "metadata": {},
   "source": [
    "or just move them with `mv` (<b>m</b>o<b>v</b>e)"
   ]
  },
  {
   "cell_type": "code",
   "execution_count": null,
   "metadata": {},
   "outputs": [],
   "source": [
    "mv b.txt c.txt\n",
    "ls -ltr *.txt"
   ]
  },
  {
   "cell_type": "markdown",
   "metadata": {},
   "source": [
    "`mv` is best for changing the file's directory or renaming files.  To rename multiple files there sometimes is the command `rename` (it's not on all distributions, which is a shame as it's handy.  Check with `man rename`) which has the form\n",
    "\n",
    "`rename 'old string' 'new string' 'pattern to match files'`\n",
    "\n",
    "So to change all our `*.txt` files to `*_old.txt`"
   ]
  },
  {
   "cell_type": "code",
   "execution_count": null,
   "metadata": {},
   "outputs": [],
   "source": [
    "rename .txt _old.txt *.txt\n",
    "ls -ltr *.txt"
   ]
  },
  {
   "cell_type": "markdown",
   "metadata": {},
   "source": [
    "Finally when we need to find things we can use `find` to locate files in a directory tree"
   ]
  },
  {
   "cell_type": "code",
   "execution_count": null,
   "metadata": {
    "scrolled": true
   },
   "outputs": [],
   "source": [
    "find . -name \"*.txt\""
   ]
  },
  {
   "cell_type": "markdown",
   "metadata": {},
   "source": [
    "(just `find *.txt` appears to work but is really expanding `*.txt` to match all files in the current directory then finding each in turn so won't go down directory trees)"
   ]
  },
  {
   "cell_type": "markdown",
   "metadata": {},
   "source": [
    "And `grep` to find text in a file (the -E just means <b>E</b>xtended which means it can use regular expressions with wildcards)"
   ]
  },
  {
   "cell_type": "code",
   "execution_count": null,
   "metadata": {},
   "outputs": [],
   "source": [
    "touch d.txt\n",
    "echo \"hello world\" > d.txt\n",
    "grep -E 'hello' *.txt"
   ]
  },
  {
   "cell_type": "markdown",
   "metadata": {},
   "source": [
    "where `echo` just prints whatever is in the quotes.\n",
    "\n",
    "Lastly to simply read a file to see what is in it we can use `cat`, `more` or `less`"
   ]
  },
  {
   "cell_type": "code",
   "execution_count": null,
   "metadata": {},
   "outputs": [],
   "source": [
    "cat d.txt\n",
    "more d.txt\n",
    "less d.txt"
   ]
  },
  {
   "cell_type": "markdown",
   "metadata": {},
   "source": [
    "`cat` is ony good for small files as it reads all of them at once but it can also con<b>cat</b>enate files (join them together).  `less` and `more` both just do a page at a time and have a lot of options with `-n` for line numbers being the most useful.  `tail` lets you read from the bottom of a file instead of the top and `tail -f` (<b>f</b>ollow) is useful for tracking output to files your code is writing to without locking them (which can cause code to crash.)\n",
    "\n",
    "### Exercise\n",
    "\n",
    "1. Make a directory called tmp and change into it\n",
    "2. Create a file test.txt\n",
    "3. copy it to test2.txt then rename test.txt to test1.txt\n",
    "4. delete the files, then delete the directory\n",
    "\n",
    "## Redirection\n",
    "\n",
    "We can redirect output from one command to a file or the contents of a file to a command using `>` and `<` "
   ]
  },
  {
   "cell_type": "code",
   "execution_count": null,
   "metadata": {},
   "outputs": [],
   "source": [
    "ls -l > output.txt"
   ]
  },
  {
   "cell_type": "markdown",
   "metadata": {},
   "source": [
    "Will list our directory and write it to a file called `output.txt`, which is will create it if it does not exist (so `> somefile.txt` works the same as `touch somefile.txt`)."
   ]
  },
  {
   "cell_type": "code",
   "execution_count": null,
   "metadata": {},
   "outputs": [],
   "source": [
    "grep hello < some_file.txt"
   ]
  },
  {
   "cell_type": "markdown",
   "metadata": {},
   "source": [
    "Will search for `hello` in the file `some_file.txt` (you can do this without the `<` and it will still work fine)\n",
    "\n",
    "we can also pipe the ouput of one command to another"
   ]
  },
  {
   "cell_type": "code",
   "execution_count": null,
   "metadata": {},
   "outputs": [],
   "source": [
    "ls -l | grep Jan > e.txt"
   ]
  },
  {
   "cell_type": "markdown",
   "metadata": {},
   "source": [
    "Will list all files in our drectory last edited in January and put them in a file called e.txt"
   ]
  },
  {
   "cell_type": "markdown",
   "metadata": {},
   "source": [
    "There are some extensions to this:\n",
    "- `>>` appends to the end of a file\n",
    "- `1>` redirects stdout\n",
    "- `2>` redirects stderr so only the errors\n",
    "- `&>` redirects both stdout and stderr\n",
    "\n",
    "You can also redirect to `/dev/null` which is a black hole\n",
    "\n",
    "### Exercise\n",
    "\n",
    "5. Go into the directory `pycamb` then write a single line command that finds all `.py` files and count how any lines contain `if`\n",
    "6. Guess the meaning of the following:"
   ]
  },
  {
   "cell_type": "code",
   "execution_count": null,
   "metadata": {},
   "outputs": [],
   "source": [
    "ls i_do_not_exist *.txt 2> /dev/null | grep [de]\n",
    "ls i_do_not_exist *.txt 2>&1 | grep [de]\n",
    "ls i_do_not_exist *.txt 2>&1 1>/dev/null | grep [de]\n",
    "ls i_do_not_exist *.txt 1>/dev/null 2>&1 | grep [de]"
   ]
  },
  {
   "cell_type": "markdown",
   "metadata": {},
   "source": [
    "## Mangaging processes\n",
    "\n",
    "list all processes you control"
   ]
  },
  {
   "cell_type": "code",
   "execution_count": null,
   "metadata": {},
   "outputs": [],
   "source": [
    "ps"
   ]
  },
  {
   "cell_type": "markdown",
   "metadata": {},
   "source": [
    "list all processes on the system with all info"
   ]
  },
  {
   "cell_type": "code",
   "execution_count": null,
   "metadata": {},
   "outputs": [],
   "source": [
    "ps -elf"
   ]
  },
  {
   "cell_type": "markdown",
   "metadata": {},
   "source": [
    "we can also open an interactive live picture"
   ]
  },
  {
   "cell_type": "code",
   "execution_count": null,
   "metadata": {},
   "outputs": [],
   "source": [
    "top"
   ]
  },
  {
   "cell_type": "markdown",
   "metadata": {},
   "source": [
    "This has many options with some of the more useful being `-o` which sorts it by any column but `mem`, `user`, `time` and `cpu` (default) are useful and `-user me123` to display only one user.  These options can be on the command line or while in the top window itself\n",
    "\n",
    "When you start processes you can do so in the background with `jobscript &` then check them with the command `jobs`. Then `bg` sends the job to the background and `fg` sends it to the foreground."
   ]
  },
  {
   "cell_type": "code",
   "execution_count": null,
   "metadata": {},
   "outputs": [],
   "source": [
    "jobs -l\n",
    "sleep 30 &\n",
    "sleep 20 &\n",
    "sleep 10 &\n",
    "jobs -l\n",
    "fg 3"
   ]
  },
  {
   "cell_type": "markdown",
   "metadata": {},
   "source": [
    "In order to change the status of the jobs you can use the `kill` command"
   ]
  },
  {
   "cell_type": "code",
   "execution_count": null,
   "metadata": {},
   "outputs": [],
   "source": [
    "jobs -l\n",
    "sleep 300 &\n",
    "sleep 200 &\n",
    "sleep 100 &\n",
    "kill -SIGSTOP %1\n",
    "kill -SIGTERM %2\n",
    "kill -SIGKILL %3\n",
    "jobs -l\n",
    "kill -SIGCONT %1\n",
    "jobs -l\n",
    "kill -SIGTERM %1"
   ]
  },
  {
   "cell_type": "markdown",
   "metadata": {},
   "source": [
    "The option `-SIGSTOP` means pause the job, `-SIGCONT` restarts it (in the background so this is equivalent to `bg`, you can change it to the foreground, if that's were it was, this with `fg`).  `-SIGTERM` attempts a clean exit so is good for applications (as they get a change to save your data etc..). `-SIGKILL` kills the process no matter what.  These all have numeric shorthands `-9` for `-SIGKILL`, `-15` for `-SIGTERM`.   The other two are system dependent so one of `-17`,`-19`,`-23` for `-SIGSTOP` and `-19`,`-18`,`-25` for `-SIGCONT`.\n",
    "\n",
    "### Exercise\n",
    "\n",
    "7. Try the above line by line to see what happens"
   ]
  },
  {
   "cell_type": "markdown",
   "metadata": {},
   "source": [
    "## Remote Computing\n",
    "\n",
    "Once you start writing larger codes that exceed the local resources of you computer or laptop you will have to start working on dedicated machines which you will likely have to access remotely.  This is done with the command `ssh` (<b>s</b>ecure <b>sh</b>ell)."
   ]
  },
  {
   "cell_type": "code",
   "execution_count": null,
   "metadata": {},
   "outputs": [],
   "source": [
    "ssh username@machinename"
   ]
  },
  {
   "cell_type": "markdown",
   "metadata": {},
   "source": [
    "This can be tested for DAMTP and DPMMS users with the command below:"
   ]
  },
  {
   "cell_type": "code",
   "execution_count": null,
   "metadata": {},
   "outputs": [],
   "source": [
    "ssh -X CRSid@ssh.maths.cam.ac.uk"
   ]
  },
  {
   "cell_type": "markdown",
   "metadata": {},
   "source": [
    "This just makes your terminal window act like one on the remote machine.  The `-X` allows 'X forwarding' so can transfer GUI interfaces between the computers.  To edit files remotely you have to use the standard editors on the machine you have `ssh`ed to, usually `vim` or `emacs`. Both are powerful and have dedicated fans but the learning curve is very steep. You should google tutorials if you want to learn more, there are loads for both of them.  \n",
    "\n",
    "You can copy the files between the machines with `scp` (<b>s</b>ecure <b>c</b>o<b>p</b>y) or `sftp` (<b>s</b>ecure <b>f</b>ile <b>t</b>ransfer <b>p</b>rotocol).  First `scp` works just like `cp`"
   ]
  },
  {
   "cell_type": "code",
   "execution_count": null,
   "metadata": {},
   "outputs": [],
   "source": [
    "scp username@machinename:file.txt /local/directory/.\n",
    "scp -r username@machinename:/remote/directory /local/directory/"
   ]
  },
  {
   "cell_type": "markdown",
   "metadata": {},
   "source": [
    "`sftp` is a bit different.  Here you login to the remote machine and open an `ftp` window where you move files with `get` and `put`"
   ]
  },
  {
   "cell_type": "code",
   "execution_count": null,
   "metadata": {},
   "outputs": [],
   "source": [
    "sftp  username@machinename\n",
    "\n",
    "get remotefile\n",
    "put localfile\n",
    "\n",
    "get remotefile copytonewlocalname"
   ]
  },
  {
   "cell_type": "markdown",
   "metadata": {},
   "source": [
    "Personally I don't like `vim` or `emacs` as I can't remember the dozens of commands you need to make them work and I find coping the files back and forth is too annoying so I use a `ssh` client like Cyberduck for mac, WinSCP for windows or on Linux you can use Dolphin or Nautilus.  These make the remote directory look like a local one and you can open files with your favorite editor (which makes a local copy), edit them, then save (which should copy the file back, at least for Cyberduck) which makes working on remote code easy.\n",
    "\n",
    "### Exercise\n",
    "\n",
    "8. Try to ssh into the maths computers with CRSid@ssh.maths.cam.ac.uk\n",
    "9. Make a file with in you local diectory then log out (`exit`)\n",
    "10. Copy the file from your home directory back to here"
   ]
  },
  {
   "cell_type": "markdown",
   "metadata": {},
   "source": [
    "## Enviroment\n",
    "\n",
    "When you log in, `bash` will execute several *script* files; basically lists of commands\n",
    "-   system startup files\n",
    "-   personal ones in `~/.bash_profile` (login sessions) or `~/.bashrc` (other sessions)\n",
    "-   edit as you see fit, but be careful: mistakes can lead to inability to log in!\n",
    "\n",
    "*Environment variables* control how `bash` behaves; most important one is `PATH` list of colon-separated directory names to look, in order, for commands typed in the prompt"
   ]
  },
  {
   "cell_type": "code",
   "execution_count": null,
   "metadata": {},
   "outputs": [],
   "source": [
    "echo ${PATH}"
   ]
  },
  {
   "cell_type": "markdown",
   "metadata": {},
   "source": [
    "To see all enviroment variables use `env`"
   ]
  },
  {
   "cell_type": "code",
   "execution_count": null,
   "metadata": {},
   "outputs": [],
   "source": [
    "env"
   ]
  },
  {
   "cell_type": "markdown",
   "metadata": {},
   "source": [
    "Editing `~/.bashrc` or `~/.bash_profile` is only sensible for things that you need to set up everytime you login to a system.  A good example is to load modules your code needs or to set up shortcuts.\n",
    "\n",
    "As an example here is mine for the cosmos supercomputer:"
   ]
  },
  {
   "cell_type": "code",
   "execution_count": null,
   "metadata": {},
   "outputs": [],
   "source": [
    "# ~/.bashrc.local\n",
    "# $Id: .bashrc.local,v 1.4 2009/01/26 11:00:13 root Exp $\n",
    "# $Source: /home/cosmos/template/RCS/.bashrc.local,v $\n",
    "#\n",
    "# Add/modify here your custom environment settings\n",
    "\n",
    "alias cosmos2='msub -q debug2 -I -V -l nodes=1:ppn=1,mem=50gb,walltime=08:00:00 -N debug_session'\n",
    "\n",
    "module load icomp mpt gsl cfitsio pgplot healpix/3.40-serial-intel-15.0\n",
    "module load cosmolib python"
   ]
  },
  {
   "cell_type": "markdown",
   "metadata": {},
   "source": [
    "This sets up the shortcut using the `alias` command so when I type `cosmos2` it executes the command in red which launches an interactive job in the debuging queue.  Then I load a bunch of modules I need to run my code on the machines.\n",
    "\n",
    "## Scripting\n",
    "\n",
    "You should also note that all the commands here can be executed as a script (just a file with a list of commands.  It is often given the extension `.sh` as in `somthing.sh`.  `sh` is an earlier version of `bash` so this is actually a bit misleading.  It's not a requirement so you can do whatever you want but it's nice to have something that tells you what it does in the name).  \n",
    "\n",
    "First you need to start the file with:\n",
    "\n",
    "`#!/bin/bash`\n",
    "\n",
    "This isn't strictly nessecary but makes sure your computer knows to interprets the following commands using the `bash` language (what the terminal is using for its `kernel` if any of the above worked.  `kernel` just means 'thing which interprets the commands you type') and after this you can just list commands that you want.  This can fail if `bash` isn't in the `/bin` directory.  Instead you might need:\n",
    "\n",
    "`#!/usr/local/bin/bash`  Another place bash sometimes lives\n",
    "`#!/usr/bin/env bash`    Works is `bash` is in your path\n",
    "\n",
    "You can in fact put any kernel here for any other scripting language, like for example:\n",
    "\n",
    "`#!/bin/python`\n",
    "\n",
    "Back to bash, once you have this line you can write commands just like you were entering them into the terminal.  So an example might be:"
   ]
  },
  {
   "cell_type": "code",
   "execution_count": null,
   "metadata": {},
   "outputs": [],
   "source": [
    "#!/bin/bash\n",
    "\n",
    "cd ~code/output\n",
    "rm -f *.log *.out"
   ]
  },
  {
   "cell_type": "markdown",
   "metadata": {},
   "source": [
    "You would then save this into a file `cleanup.sh`. Then you have to change the file permissions to allow execution ie: `chmod 744 cleanup.sh`.  Then you can run it on the command line with\n",
    "\n",
    "`./cleanup.sh`\n",
    "or\n",
    "`bash cleanup.sh`\n",
    "\n",
    "This can be helpful for sets of commands you often run together.\n",
    "\n",
    "BASH is actually a fairly powerful programming language on its own.  You have variables:"
   ]
  },
  {
   "cell_type": "code",
   "execution_count": null,
   "metadata": {},
   "outputs": [],
   "source": [
    "var1=1\n",
    "echo \"var1 = $var1\"\n",
    "\n",
    "str1=\"Hello\"\n",
    "echo \"str1 = $str1\""
   ]
  },
  {
   "cell_type": "markdown",
   "metadata": {},
   "source": [
    "Note the double quotes, single quotes will result in `echo` not expanding the variable by printing the name instead.  Also you can't have any spaces in assignment so `var1 = 1` fails.\n",
    "\n",
    "It also has loops:"
   ]
  },
  {
   "cell_type": "code",
   "execution_count": null,
   "metadata": {},
   "outputs": [],
   "source": [
    "for i in {1..10}; # {1..10} expands to \"1 2 3 4 5 6 7 8 9 10\"\n",
    "do \n",
    "    echo \"List form:    The iteration number is $i\"\n",
    "done\n",
    "\n",
    "for (( i = 0; i < 10; i++ )) #C style loop\n",
    "do\n",
    "    echo \"C style form: The iteration number is $i\"\n",
    "done\n",
    "\n",
    "i=0\n",
    "while [ $i -lt 5 ] #Executes until false\n",
    "do\n",
    "    echo \"while: i is currently $i\"\n",
    "    i=$[$i+1] #Not the lack of spaces around the brackets. This makes it a not a test expression\n",
    "done\n",
    "\n",
    "i=5\n",
    "until [[ $i -eq 10 ]]; #Executes until true\n",
    "do\n",
    "    echo \"until: i is currently $i\"\n",
    "    i=$((i+1))\n",
    "done"
   ]
  },
  {
   "cell_type": "markdown",
   "metadata": {},
   "source": [
    "and conditional expressions"
   ]
  },
  {
   "cell_type": "code",
   "execution_count": null,
   "metadata": {},
   "outputs": [],
   "source": [
    "if [ \"$num\" -eq 1 ]; then\n",
    "    echo \"the number is 1\"\n",
    "elif [ \"$num\" -gt 2 ]; then\n",
    "    echo \"the number is greater than 2\"\n",
    "else\n",
    "    echo \"The number was not 1 and is not more than 2.\"\n",
    "fi"
   ]
  },
  {
   "cell_type": "markdown",
   "metadata": {},
   "source": [
    "here `-lt`, `-gt`, `-eq` means \"less than\", \"greater than\" and \"equal to\" respectively.  We don't really have time to go over `bash` properly and anyway it would be best to do so after learning python to get you used to coding first as `bash` isn't always all that clear.  I will just mention one thing which might be useful which is `bash` has `&&` meaning \"and\" and`||` meaning \"or\" which help for error trapping.  For the first example `cleanup.sh` we should really have done this:"
   ]
  },
  {
   "cell_type": "code",
   "execution_count": null,
   "metadata": {},
   "outputs": [],
   "source": [
    "#!/bin/bash\n",
    "\n",
    "cd ~code/output || exit\n",
    "rm -f *.log *.out"
   ]
  },
  {
   "cell_type": "markdown",
   "metadata": {},
   "source": [
    "Now the script will exit if it can't change into the directory.  Before, if this line failed it would then have just deleted stuff whever you were which is a bit dangerous.\n",
    "\n",
    "All of the above code is in the file `test1` in the directory `Bash` if you want to test it out.\n",
    "\n",
    "NOTE: editing `bash` scripts on windows adds different new line characters and the code will fail.  This can be fixed with things like the programme `dos2unix`."
   ]
  },
  {
   "cell_type": "markdown",
   "metadata": {},
   "source": [
    "## How to find out more\n",
    "\n",
    "This should be enough to get you started but there is plenty more.  Here are the notes on the university information service course on the unix terminal:\n",
    "https://help.uis.cam.ac.uk/service/help-support/training/downloads/course-files/programming-student-files/unix-cli/unix-cli-files/working-copy-unixcli.pdf.\n",
    "\n",
    "For `bash` scripting here is a link to a free 100 page book which is worth a skim for people who want to know more: https://books.goalkicker.com/BashBook/.  \n",
    "\n",
    "Or consult the manual:\n",
    "https://www.gnu.org/savannah-checkouts/gnu/bash/manual/bash.html\n",
    "\n",
    "Finally here is a list of all commands available in `bash`\n",
    "https://courses.cs.washington.edu/courses/cse391/17sp/bash.html\n",
    "\n",
    "Otherwise, as always in coding, google is your friend."
   ]
  },
  {
   "cell_type": "code",
   "execution_count": null,
   "metadata": {},
   "outputs": [],
   "source": []
  }
 ],
 "metadata": {
  "kernelspec": {
   "display_name": "Python 3",
   "language": "python",
   "name": "python3"
  },
  "language_info": {
   "codemirror_mode": {
    "name": "ipython",
    "version": 3
   },
   "file_extension": ".py",
   "mimetype": "text/x-python",
   "name": "python",
   "nbconvert_exporter": "python",
   "pygments_lexer": "ipython3",
   "version": "3.7.1"
  }
 },
 "nbformat": 4,
 "nbformat_minor": 2
}
