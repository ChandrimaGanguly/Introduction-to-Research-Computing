{
 "cells": [
  {
   "cell_type": "code",
   "execution_count": 5,
   "metadata": {},
   "outputs": [
    {
     "name": "stdout",
     "output_type": "stream",
     "text": [
      "The value of the Taylor expansion of sin(0.1) to order 5 is: 0.09967\n"
     ]
    }
   ],
   "source": [
    "#3.1 & 2\n",
    "x = 0.1\n",
    "sintay = x - x*x*x/3e0 + x*x*x*x*x/120e0\n",
    "print('The value of the Taylor expansion of sin({:.1f}) to order {} is: {:.5f}'.format(x,5,sintay))"
   ]
  },
  {
   "cell_type": "code",
   "execution_count": 4,
   "metadata": {},
   "outputs": [
    {
     "data": {
      "text/plain": [
       "[2, 3, 5, 7, 11, 13, 17, 19, 23, 29, 31, 37, 41, 43, 47]"
      ]
     },
     "execution_count": 4,
     "metadata": {},
     "output_type": "execute_result"
    }
   ],
   "source": [
    "#3.3\n",
    "def primenum(N):\n",
    "    '''\n",
    "    Produce a list of all prime numbers less than N\n",
    "\n",
    "    Parameters\n",
    "    ----------\n",
    "    N: int\n",
    "        The maximum number for searching for primes\n",
    "        \n",
    "    Returns\n",
    "    ----------\n",
    "    list\n",
    "        All primes less than N in increasing order\n",
    "    \n",
    "    '''\n",
    "    \n",
    "#   Start with 2\n",
    "    primes = [2]\n",
    "    \n",
    "#   Search all numbers up to N\n",
    "    for n in range(3,N):\n",
    "#       Check if n is divisable any and numbers in our list of primes\n",
    "#       If not add it to the list\n",
    "        if all(n%p>0 for p in primes):\n",
    "            primes.append(n)\n",
    "            \n",
    "#   Return the list of primes\n",
    "    return primes        \n",
    "    \n",
    "primenum(50)"
   ]
  },
  {
   "cell_type": "code",
   "execution_count": 2,
   "metadata": {},
   "outputs": [
    {
     "name": "stdout",
     "output_type": "stream",
     "text": [
      "[1, 3, 6, 2, 7, 13, 20, 12, 21, 11, 22, 10, 23, 9, 24, 8, 25, 43, 62, 42]\n"
     ]
    }
   ],
   "source": [
    "#3.4\n",
    "def recaman(N):\n",
    "    '''\n",
    "    Produce a list of the first N numbers in the Recaman sequence\n",
    "\n",
    "    Parameters\n",
    "    ----------\n",
    "    N: int\n",
    "        The number of recaman numbers to find\n",
    "        \n",
    "    Returns\n",
    "    ----------\n",
    "    list\n",
    "        The first N numbers\n",
    "    \n",
    "    '''\n",
    "    \n",
    "#   Initilise with 1 as the first\n",
    "    rset = [1]\n",
    "    \n",
    "#   Find the next N numbers\n",
    "    for n in range(2,N+1):\n",
    "        \n",
    "#       Try subtraction, if the result is greater than zero add it\n",
    "#       Otherwise use addition\n",
    "        m=rset[-1]-n\n",
    "        if m>0 and m not in rset:\n",
    "            rset.append(m)\n",
    "        else:\n",
    "            rset.append(rset[-1]+n)\n",
    "            \n",
    "#   Return the list\n",
    "    return rset\n",
    "        \n",
    "print(recaman(20))"
   ]
  },
  {
   "cell_type": "code",
   "execution_count": 6,
   "metadata": {},
   "outputs": [
    {
     "name": "stdout",
     "output_type": "stream",
     "text": [
      "[2, 3, 7, 11, 13, 17, 23, 29, 31, 37, 41, 43, 67, 71, 73, 79, 83, 89, 113, 157, 163, 227]\n"
     ]
    }
   ],
   "source": [
    "#3.5\n",
    "import math\n",
    "def pr_intersection(N):\n",
    "    \"\"\"\n",
    "    Produce a list of the intersction of the first N Receman numbers\n",
    "    and the first N primes\n",
    "\n",
    "    Parameters\n",
    "    ----------\n",
    "    N: int\n",
    "        The number of recaman numbers to find\n",
    "        \n",
    "    Returns\n",
    "    ----------\n",
    "    list\n",
    "        The first N Recaman numbers in the first N primes\n",
    "    \n",
    "    \"\"\"\n",
    "    \n",
    "#   Create the list of recaman numbers\n",
    "    list1 = recaman(N)\n",
    "    \n",
    "#   Guess the M to get N primes less than M\n",
    "    M = N / math.log(N)\n",
    "#   Add tolerance then get list pf primes\n",
    "    M = int(1.1*M)+10\n",
    "    list2 = primenum(M)\n",
    "    \n",
    "#   Check prime list is long enough otherwise lengthen\n",
    "    while len(list2) < len(list1):\n",
    "        M = int(1.1*M)+10\n",
    "        list2 = primenum(M)\n",
    "#   Convert to sets so we can use intersection\n",
    "    set1 = set(list1)\n",
    "    set2 = set(list2[:len(list1)])\n",
    "    set3 = set1&set2\n",
    "    \n",
    "#   Return list\n",
    "    return sorted(set3)\n",
    "\n",
    "print(pr_intersection(100))"
   ]
  },
  {
   "cell_type": "code",
   "execution_count": 7,
   "metadata": {},
   "outputs": [
    {
     "name": "stdout",
     "output_type": "stream",
     "text": [
      "[(1, 362880), (2, 181440), (3, 120960), (4, 90720), (5, 72576), (6, 60480), (7, 51840), (8, 45360), (9, 40320), (10, 36288), (12, 30240), (14, 25920), (15, 24192), (16, 22680), (18, 20160), (20, 18144), (21, 17280), (24, 15120), (27, 13440), (28, 12960), (30, 12096), (32, 11340), (35, 10368), (36, 10080), (40, 9072), (42, 8640), (45, 8064), (48, 7560), (54, 6720), (56, 6480), (60, 6048), (63, 5760), (64, 5670), (70, 5184), (72, 5040), (80, 4536), (81, 4480), (84, 4320), (90, 4032), (96, 3780), (105, 3456), (108, 3360), (112, 3240), (120, 3024), (126, 2880), (128, 2835), (135, 2688), (140, 2592), (144, 2520), (160, 2268), (162, 2240), (168, 2160), (180, 2016), (189, 1920), (192, 1890), (210, 1728), (216, 1680), (224, 1620), (240, 1512), (252, 1440), (270, 1344), (280, 1296), (288, 1260), (315, 1152), (320, 1134), (324, 1120), (336, 1080), (360, 1008), (378, 960), (384, 945), (405, 896), (420, 864), (432, 840), (448, 810), (480, 756), (504, 720), (540, 672), (560, 648), (567, 640), (576, 630)]\n"
     ]
    }
   ],
   "source": [
    "#3.6 Factors\n",
    "print( [(x,362880//x) for x in range(1,603) if 362880%x==0] )"
   ]
  },
  {
   "cell_type": "code",
   "execution_count": 8,
   "metadata": {},
   "outputs": [
    {
     "name": "stdout",
     "output_type": "stream",
     "text": [
      "1\n",
      "0\n",
      "-1\n",
      "-2\n",
      "-3\n",
      "-4\n",
      "-3\n",
      "-2\n",
      "-3\n",
      "-4\n",
      "-3\n",
      "-4\n",
      "-3\n",
      "-2\n",
      "-3\n",
      "-4\n",
      "-5\n",
      "-6\n",
      "-5\n",
      "-4\n",
      "-5\n",
      "-4\n",
      "-5\n",
      "-6\n",
      "-5\n",
      "-4\n",
      "-3\n",
      "-4\n",
      "-3\n",
      "-4\n",
      "-3\n",
      "-2\n",
      "-3\n",
      "-4\n",
      "-3\n",
      "-4\n",
      "-5\n",
      "-6\n",
      "-7\n",
      "-6\n",
      "-7\n",
      "-6\n",
      "-5\n",
      "-4\n",
      "-3\n",
      "-2\n",
      "-1\n",
      "-2\n",
      "-3\n",
      "-2\n",
      "-1\n",
      "0\n",
      "-1\n",
      "0\n",
      "-1\n",
      "0\n",
      "1\n",
      "2\n",
      "1\n",
      "2\n",
      "3\n",
      "4\n",
      "5\n",
      "4\n",
      "5\n",
      "6\n",
      "7\n",
      "6\n",
      "5\n",
      "4\n",
      "3\n",
      "4\n",
      "3\n",
      "2\n",
      "3\n",
      "2\n",
      "3\n",
      "4\n",
      "5\n",
      "4\n",
      "5\n",
      "6\n",
      "5\n",
      "4\n",
      "5\n",
      "4\n",
      "5\n",
      "6\n",
      "7\n",
      "6\n",
      "7\n",
      "6\n",
      "7\n",
      "6\n",
      "7\n",
      "6\n",
      "5\n",
      "6\n",
      "5\n",
      "6\n",
      "5\n",
      "6\n",
      "5\n",
      "4\n",
      "5\n",
      "4\n",
      "5\n",
      "4\n",
      "5\n",
      "6\n",
      "7\n",
      "8\n",
      "9\n",
      "10\n"
     ]
    }
   ],
   "source": [
    "#3.7 Random walk\n",
    "import random\n",
    "\n",
    "def genrw():\n",
    "    \"\"\"\n",
    "    Generates a random walk until we reach a displacement of 10\n",
    "\n",
    "    Parameters\n",
    "    ----------\n",
    "    None\n",
    "        \n",
    "    Returns\n",
    "    ----------\n",
    "    generator object which produces a random walk\n",
    "    \n",
    "    \"\"\"\n",
    "    n=0\n",
    "    \n",
    "#   Loop until we have displacemtn 10\n",
    "    while abs(n)<10:\n",
    "#       Get random integer between 0 and 1 and use as test\n",
    "        test = random.randint(0,1)\n",
    "#       Either step up or down depending on test\n",
    "        if test:\n",
    "            n+=1\n",
    "            yield n\n",
    "        else:\n",
    "            n-=1\n",
    "            yield n\n",
    "            \n",
    "for n in genrw():\n",
    "    print(n)"
   ]
  },
  {
   "cell_type": "code",
   "execution_count": null,
   "metadata": {},
   "outputs": [],
   "source": []
  }
 ],
 "metadata": {
  "kernelspec": {
   "display_name": "Python 3",
   "language": "python",
   "name": "python3"
  },
  "language_info": {
   "codemirror_mode": {
    "name": "ipython",
    "version": 3
   },
   "file_extension": ".py",
   "mimetype": "text/x-python",
   "name": "python",
   "nbconvert_exporter": "python",
   "pygments_lexer": "ipython3",
   "version": "3.7.0"
  }
 },
 "nbformat": 4,
 "nbformat_minor": 2
}
