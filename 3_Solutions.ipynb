{
 "cells": [
  {
   "cell_type": "code",
   "execution_count": null,
   "metadata": {},
   "outputs": [],
   "source": [
    "#3.1 & 2\n",
    "x = 0.1\n",
    "sintay = x - x*x*x/3e0 + x*x*x*x*x/120e0\n",
    "print('The value of the Taylor expansion of sin({:.1f}) to order {} is: {:.5f}'.format(x,5,sintay))"
   ]
  },
  {
   "cell_type": "code",
   "execution_count": null,
   "metadata": {},
   "outputs": [],
   "source": [
    "#3.3\n",
    "def primenum(N):\n",
    "    primes = [2]\n",
    "    for n in range(3,N):\n",
    "        if all(n%p>0 for p in primes):\n",
    "            primes.append(n)\n",
    "    return primes        \n",
    "    \n",
    "primenum(100)"
   ]
  },
  {
   "cell_type": "code",
   "execution_count": null,
   "metadata": {},
   "outputs": [],
   "source": [
    "#3.4\n",
    "def recaman(N):\n",
    "    rset = [1]\n",
    "    for n in range(2,N+1):\n",
    "        m=rset[-1]-n\n",
    "        if m>0 and m not in rset:\n",
    "            rset.append(m)\n",
    "        else:\n",
    "            rset.append(rset[-1]+n)\n",
    "    return rset\n",
    "        \n",
    "print(recaman(20))"
   ]
  },
  {
   "cell_type": "code",
   "execution_count": null,
   "metadata": {},
   "outputs": [],
   "source": [
    "#3.5\n",
    "import math\n",
    "def pr_intersection(N):\n",
    "    list1 = recaman(N)\n",
    "    M = N / math.log(N)\n",
    "    M = int(1.1*M)+10\n",
    "    list2 = primenum(M)\n",
    "    while len(list2) < len(list1):\n",
    "        M = int(1.1*M)+10\n",
    "        list2 = primenum(M)\n",
    "    set1 = set(list1)\n",
    "    set2 = set(list2[:len(list1)])\n",
    "    set3 = set1&set2\n",
    "    return sorted(set3)\n",
    "\n",
    "print(pr_intersection(100))"
   ]
  },
  {
   "cell_type": "code",
   "execution_count": null,
   "metadata": {},
   "outputs": [],
   "source": [
    "#3.6 Factors\n",
    "print( [(x,362880//x) for x in range(1,603) if 362880%x==0] )"
   ]
  },
  {
   "cell_type": "code",
   "execution_count": null,
   "metadata": {},
   "outputs": [],
   "source": [
    "#3.7 Random walk\n",
    "import random\n",
    "\n",
    "def genrw():\n",
    "    n=0\n",
    "    while abs(n)<10:\n",
    "        test = random.randint(0,1)\n",
    "        if test:\n",
    "            n+=1\n",
    "            yield n\n",
    "        else:\n",
    "            n-=1\n",
    "            yield n\n",
    "            \n",
    "for n in genrw():\n",
    "    print(n)"
   ]
  }
 ],
 "metadata": {
  "kernelspec": {
   "display_name": "Python 3",
   "language": "python",
   "name": "python3"
  },
  "language_info": {
   "codemirror_mode": {
    "name": "ipython",
    "version": 3
   },
   "file_extension": ".py",
   "mimetype": "text/x-python",
   "name": "python",
   "nbconvert_exporter": "python",
   "pygments_lexer": "ipython3",
   "version": "3.7.0"
  }
 },
 "nbformat": 4,
 "nbformat_minor": 2
}
