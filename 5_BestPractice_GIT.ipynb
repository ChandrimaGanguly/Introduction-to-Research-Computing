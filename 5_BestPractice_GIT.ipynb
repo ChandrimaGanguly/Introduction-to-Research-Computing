{
 "cells": [
  {
   "cell_type": "markdown",
   "metadata": {},
   "source": [
    "# Good practice for coding\n",
    "\n",
    "When writing code to solve science prioblems it is very easy to aim to do \\*just\\* enough to get the answer you need.  It always feels like the fastest thing to do at the time, and at the time it may well be.  Unfortunatly what usually happens is the problem you started solving presents new problems and they present new problems and the code you started with then gets added to, and added to, and added to, to solve all these extra problems.  The result it that your original 'quick and dirty' code becomes your 'long, slow, un-readable, fragile mess' code.  You then find that you have to spent more and more time debugging it and trying to remember exactly what all the different parts do.\n",
    "\n",
    "The other problem is that you may find that you code is in fact quite useful and you may want to share it with collaborators or students but unfortunatly as it's a 'long, slow, un-readable, fragile mess' no-one else can understand any of it, let alone make it work, and they end up having to write their own 'long, slow, un-readable, fragile messes' to duplicate yours.\n",
    "\n",
    "This is certainly the experence I had with my own code which is now over 50,000 lines long and comprises 29 different executables of which only about 12 still work.  So, with with the benefit of hindsight, the goal of this section is to help you to write code that is readable and maintainable.  And, once you have solved what you need to solve, can be shared with the world with you head help high.\n",
    "\n",
    "The first thing I need to teach you is this:\n",
    "\n",
    "- You will often do very very stupid things\n",
    "\n",
    "My worst was typing `rm *` then, when going for the shift to add `Out` to remove my output files, instead bumped `enter` irreversably deleting my entire code base. On a smaller scale you will often find that when writing coding you will sometime convert working code to broken code and you won't know why and you wont be ablt to get it back to how it was (this will happen alot).\n",
    "\n",
    "Therefor the most important part of good coding practice is:\n",
    "\n",
    "## Version Control\n",
    "\n",
    "In it's simplest form verision control takes snpshots of your code at different stages and saves it so you can wind back to earlier versions if a problem arises.  It also allows you to branch your code so you can try new approaches while leaving the original version safe.  It also allows multiple people to work on a given code at the same time and for them to resolve the conflicts that arise when they edit the same files..\n",
    "\n",
    "### Git\n",
    "\n",
    "In this course we will introduce you to `git` (there are others but git is an industry standard and used widely, ~70%). git is a distributed and decentralised version control system.\n",
    "\n",
    "-   You can run it locally on your desktop just for yourself (You will want to make sure this is a machine that has a backup service)\n",
    "-   Or you can upload you repository to a git hosting site like github (private for cam address), bitbucket and gitlab.  the UIS also has git repositories.  This makes it easy for a team to work on the code and also gives you an off site backup.\n",
    "- Git will scale to just about any size you can think of (sometimes needs a small extra effort)\n",
    "- Using git opens door to industrial best practices and peer-to-peer software ideas\n",
    "\n",
    "On thing to consider when choosing a hosting site is data protection.  If you are working with sensitive data you may want your repository to be private. This can be done on all the above options.  Github will allow private accounts for \n",
    ".cam email addresses (but this will expire when you graduate). Bitbucket also allows unlimited private repositories for small teams. Gitlab allows local hosting  https://git.maths.cam.ac.uk/users/sign_in and the UIS service is naturally cambridge only https://git.uis.cam.ac.uk/x/maths/.\n",
    "\n",
    "Before we get into the detail lets see it works in simple cases\n",
    "\n",
    "### Creating a repository\n",
    "\n",
    "One you have some code in a directory that works you will want to create a git repository to keep track of changes (you can of course do this before you start a project).  You create a git instance from the terminal window with:"
   ]
  },
  {
   "cell_type": "code",
   "execution_count": null,
   "metadata": {},
   "outputs": [],
   "source": [
    "cd directory_with_project\n",
    "git init"
   ]
  },
  {
   "cell_type": "markdown",
   "metadata": {},
   "source": [
    "Now if you type `ls -a` you will see a hidden directory called '.git'. This is you repository.  At the moment there are no files in it so let's add some"
   ]
  },
  {
   "cell_type": "code",
   "execution_count": null,
   "metadata": {},
   "outputs": [],
   "source": [
    "git add 'list of files and directories'"
   ]
  },
  {
   "cell_type": "markdown",
   "metadata": {},
   "source": [
    "Note as a general rule you should only add files you have actually types.  So not compiled executables, libraries, object files, \\*.pyc, editor backup files or data.  This doesn't actually add them to the repository it just tells git that these are files we need to keep track of. We can check what has happened with:"
   ]
  },
  {
   "cell_type": "code",
   "execution_count": null,
   "metadata": {},
   "outputs": [],
   "source": [
    "git status"
   ]
  },
  {
   "cell_type": "markdown",
   "metadata": {},
   "source": [
    "This will tell us that there are no files commited to branch master and a list of new files to be included.  Now if we are happy with this we can commit them to the repository with. "
   ]
  },
  {
   "cell_type": "code",
   "execution_count": null,
   "metadata": {},
   "outputs": [],
   "source": [
    "git commit -m 'Descriptive message here saying what you have done'"
   ]
  },
  {
   "cell_type": "markdown",
   "metadata": {},
   "source": [
    "If you ommit the -m git brings up an editor where you can write a much longer note **which you should probably do most of the time**. Git will complain the first time you do this as name and email are not known. To set them use:"
   ]
  },
  {
   "cell_type": "code",
   "execution_count": null,
   "metadata": {},
   "outputs": [],
   "source": [
    "git config --global user.name \"Wilberforce Velociraptor Norton\"\n",
    "git config --global user.email wvn99@cam.ac.uk"
   ]
  },
  {
   "cell_type": "markdown",
   "metadata": {},
   "source": [
    "You may also want to specify the editor that git opens for typing commit messages using:"
   ]
  },
  {
   "cell_type": "code",
   "execution_count": null,
   "metadata": {},
   "outputs": [],
   "source": [
    "git config --global core.editor emacs"
   ]
  },
  {
   "cell_type": "markdown",
   "metadata": {},
   "source": [
    "When you write you commit messages do not get in the habit of writing ones like this:\n",
    "\n",
    "![](Plots/git_commit.png)\n",
    "\n",
    "Most importantly don't just say what you have done but say why you did it.  You **will** forget so make sure you have enough detail for someone new to the project to understand what changed.  Here is the standard style guide for commit messages:"
   ]
  },
  {
   "cell_type": "code",
   "execution_count": null,
   "metadata": {},
   "outputs": [],
   "source": [
    "'''\n",
    "Summarize changes in around 50 characters or less\n",
    "\n",
    "More detailed explanatory text, if necessary. Wrap it to about 72\n",
    "characters or so. In some contexts, the first line is treated as the\n",
    "subject of the commit and the rest of the text as the body. The\n",
    "blank line separating the summary from the body is critical (unless\n",
    "you omit the body entirely); various tools like `log`, `shortlog`\n",
    "and `rebase` can get confused if you run the two together.\n",
    "\n",
    "Explain the problem that this commit is solving. Focus on why you\n",
    "are making this change as opposed to how (the code explains that).\n",
    "Are there side effects or other unintuitive consequences of this\n",
    "change? Here's the place to explain them.\n",
    "\n",
    "Further paragraphs come after blank lines.\n",
    "\n",
    " - Bullet points are okay, too\n",
    "\n",
    " - Typically a hyphen or asterisk is used for the bullet, preceded\n",
    "   by a single space, with blank lines in between, but conventions\n",
    "   vary here\n",
    "\n",
    "If you use an issue tracker, put references to them at the bottom,\n",
    "like this:\n",
    "\n",
    "Resolves: #123\n",
    "See also: #456, #789\n",
    "'''"
   ]
  },
  {
   "cell_type": "markdown",
   "metadata": {},
   "source": [
    "If you have made a mistake with your commit, like forgetting a file, you can fix this using `--ammend` eq:"
   ]
  },
  {
   "cell_type": "code",
   "execution_count": null,
   "metadata": {},
   "outputs": [],
   "source": [
    "git commit -m 'initial commit'\n",
    "git add forgotten_file\n",
    "git commit --amend"
   ]
  },
  {
   "cell_type": "markdown",
   "metadata": {},
   "source": [
    "You can check the history of the project with:"
   ]
  },
  {
   "cell_type": "code",
   "execution_count": null,
   "metadata": {},
   "outputs": [],
   "source": [
    "git log"
   ]
  },
  {
   "cell_type": "markdown",
   "metadata": {},
   "source": [
    "This it the basic cycle for one person using git.  You edit some code, once you are happy with it you add then commit the changes, then edit some more. You should think of git as having three areas that it keeps track of.\n",
    "\n",
    "1. Working directory\n",
    "2. Staging area\n",
    "3. Committed\n",
    "\n",
    "Files start in 1, the working directory where you can edit/create them. When you are happy with your work you use `git add` to tag then are ready for being commited. Now thay are in 2, staging.  Once all the files you want are in staging you take a snapshot of them with `git commit` which makes a copy and hides it in the `.git` folder.  Now you go back to editing which moves the files back to 1.  Again, this should only really be for your code you type. If you to add large data sets then the repository can become very large and checking what had changed between commits become much more difficult.  These should be stored with your usual backups (which you should also definitely have). \n",
    "\n",
    "If you find that you have made a terrible mistake in a file but haven't commited it yet.  You can return to the last commited version of that file with:"
   ]
  },
  {
   "cell_type": "code",
   "execution_count": null,
   "metadata": {},
   "outputs": [],
   "source": [
    "git checkout -- 'filename'"
   ]
  },
  {
   "cell_type": "markdown",
   "metadata": {},
   "source": [
    "This will revert to the last commited version of that file, this will work even if you deleted the file in question.  \n",
    "\n",
    "If you want all changes removed use `git checkout .` (note if you are not in the root folder it will only remove changes from folders down from where you are).  Git keeps track of all your commits with something called a Directed Acyclic Graph (DAG).  This is just in essence a list of all commits.  \n",
    "\n",
    "![](Plots/GIT_DAG_1.png)\n",
    "\n",
    "Here we see that we have made 3 commits (C0, C1, C2) and `master` points to the last one, C2"
   ]
  },
  {
   "cell_type": "markdown",
   "metadata": {},
   "source": [
    "Now let's consider the option where you have broken you code but didn't notice until you had already committed it.  Now you want to back to an earlier version.  You do this with:"
   ]
  },
  {
   "cell_type": "code",
   "execution_count": null,
   "metadata": {},
   "outputs": [],
   "source": [
    "git reset HEAD~"
   ]
  },
  {
   "cell_type": "markdown",
   "metadata": {},
   "source": [
    "This will wind you back one commit (`HEAD~n` winds back n commits). It comes with three options, `--soft`, `--mixed`, and `--hard`.  The `--soft` option means that we go back to just before the commit.  `--mixed` mean go back to before the commit and undo all the `add`'s. `--hard` means go back to just after the last commit, before anything was edited. Commits after will this still exist for a while (30 days) so nothing is lost immediatly but will eventually get cleaned up, to go back we need to do `git reset HEAD@{1}` which means reset to the previous place `HEAD` pointed to (`HEAD@{n}` goes to the place head pointed to n steps ago). Here is what it looks like after a reset\n",
    "\n",
    "To go forward do checkout master not HEAD@\n",
    "\n",
    "![](Plots/GIT_DAG_2.png)\n",
    "\n",
    "Now we see that all that's changed is we are now pointing to C1.\n",
    "\n",
    "You should only use this if you genuinely want to undo changes.  If you just want to look at the previous commit you should use `git checkout @{1}`, then `git checkout master` will return you to where you were.  To go anywhere in the DAG you just need to use the SHA-1 (Secure Hash Algorythm) hash of the commit as the label, this is the long string after the word commit when using `git log` then use `git checkout 'SHA-1'`. Git will understand any unique shortining of this so you don't have to type it all.  To get a list of shortened codes use `git log --abbrev-commit` instead.\n",
    "\n",
    "There is a complication that this command leaves you in a 'detached' state which means that `HEAD` no longer points to `master` so if you try to commit the commit won't belong on any branch.  You can avoid this by creating a branch after checkout or at the time of checkout by using `git checkout -b branchname SHA-1`.\n",
    "\n",
    "This can all ge a bit confusing to navagate so there are many GUI clients which help visualise the DAG.  Part of the standard install will be gitk (on mac you will have to do install it yourself) or you can use a third party option: https://git-scm.com/downloads/guis/, many of which allow you to manage all of git rather than just view it.  \n",
    "\n",
    "You should note that checking out other commits would delete any uncommited changes in you current space. Luckly by default git refuses to perform checkout to different branch if it would result in lose of uncomited changes, you can override this by using `-f`. If you want to go look at another commit when you are in the middle of something that isn't ready to be commited but don't want to lose it then you can save you progress with:"
   ]
  },
  {
   "cell_type": "code",
   "execution_count": null,
   "metadata": {},
   "outputs": [],
   "source": [
    "git stash"
   ]
  },
  {
   "cell_type": "markdown",
   "metadata": {},
   "source": [
    "This takes all you edits and saves them, you are now safe to checkout any other commits.  You can view your current stashes with `git stash list` and bring them back with `git stash apply`.  You can even do this somewhere different from where you stashed it.\n",
    "\n",
    "If you just want to compare two different commits you don't need to check them out at all.  You just use"
   ]
  },
  {
   "cell_type": "code",
   "execution_count": null,
   "metadata": {},
   "outputs": [],
   "source": [
    "git diff 'commit1' 'commit2'"
   ]
  },
  {
   "cell_type": "markdown",
   "metadata": {},
   "source": [
    "diff can also compare individual files or even branches.\n",
    "\n",
    "The next thing you might want to do is try developing a new feature while keeping the original production code as it is for safe keeping.  To do this you create a `branch`:"
   ]
  },
  {
   "cell_type": "code",
   "execution_count": null,
   "metadata": {},
   "outputs": [],
   "source": [
    "git branch 'sensible and descriptive branch name usually with \"-\" or \"_\" instead of spaces'"
   ]
  },
  {
   "cell_type": "markdown",
   "metadata": {},
   "source": [
    "This creates the branch but doesn't actually move you to it, you will still be on master. You do this with the `checkout` command. To switch between branches you type:"
   ]
  },
  {
   "cell_type": "code",
   "execution_count": null,
   "metadata": {},
   "outputs": [],
   "source": [
    "git checkout master # switch to main\n",
    "git checkout branch # switch to new"
   ]
  },
  {
   "cell_type": "markdown",
   "metadata": {},
   "source": [
    "Or you can add the `-b` option to the branch command which creates and switches to the new branch.  After creating the branch the DAG looks like this (assuming we went back to C2 beforehand):\n",
    "\n",
    "![](Plots/GIT_DAG_3.png)\n",
    "\n",
    "So switching between master and branch does nothing.  Suppose you continue to work on the branch and make two more commits.  The DAG will look like this:\n",
    "\n",
    "![](Plots/GIT_DAG_4.png)\n",
    "\n",
    "At any time you are free to edit and commit to both master or branch and git will keep everything seperate.  Switching between the branch and master will cause git to move change all the files in your directories to those associated with the last commit on each.  If we are happy with our new feature we may want to add it to the master version.  To do this we would perform a `merge`"
   ]
  },
  {
   "cell_type": "code",
   "execution_count": null,
   "metadata": {},
   "outputs": [],
   "source": [
    "git checkout master\n",
    "git merge branch"
   ]
  },
  {
   "cell_type": "markdown",
   "metadata": {},
   "source": [
    "This changes back to the last commit on the master branch and merges it with the last commit on the new branch.  As there are no places where the graph splits between the two we can just move the label master to point to the commit C4\n",
    "\n",
    "![](Plots/GIT_DAG_4a.png)\n",
    "\n",
    "This is known as a 'fast-forward' commit.  After it we can then delete the branch with `git branch -d 'branch name'`\n",
    "\n",
    "Now suppose instead of this you had switched back to master and made one more commit.  Now the DAG would look like this:\n",
    "\n",
    "![](Plots/GIT_DAG_5.png)\n",
    "\n",
    "So `HEAD` on points to C5 on master and C4 on branch. Now what happens when you try to merge? If we use the same commands as before this changes to the master then merges the commit the branch points to, C4, with the one master points to, C5, to make a new one C6\n",
    "\n",
    "![](Plots/GIT_DAG_6.png)"
   ]
  },
  {
   "cell_type": "markdown",
   "metadata": {},
   "source": [
    "This may not be straight forward. The same file may have been edited differently in C5 and C4 so git will be unsure what to do when merging.  When this happens you get the message: \"Automatic merge failed; fix conflicts and then commit the result.\"  To see what happened you can use `git status` which will list the files which have problems.  If you then open one of these files you will see sections which conflict have been marked with code that looks like this:"
   ]
  },
  {
   "cell_type": "code",
   "execution_count": null,
   "metadata": {},
   "outputs": [],
   "source": [
    "<<<<<<< HEAD:filename.py\n",
    "'the code in the file on master'\n",
    "=======\n",
    "'the code in the file on branch'\n",
    ">>>>>>> branch:filename.py"
   ]
  },
  {
   "cell_type": "markdown",
   "metadata": {},
   "source": [
    "You then have to go in and replace each of these sections with what you think the code should really say.  Once you have done this you should `add` the file to staging.  Once all files have been `add`ed then you should run `git status` to check all confilicts are gone then `git commit` to complete the merge.  After this we are free to delete the branch with `git branch -d 'branch name'`.\n",
    "\n",
    "Unfortunatly git will only raise issues if two commits have edited the same file.  This doesn't mean that you code will still work.  You could have made an evil merge.  This occours when you try to merge the following two commits: \n",
    "    \n",
    "- Added extra argument to function in branch1\n",
    "- Used function somewhere new in branch2\n",
    "\n",
    "The merge is fine as the files edited in each commit were different but the code is now broken!  This is generally avoided by merginging branches together then running tests before merging the changes back to master.\n",
    "\n",
    "### Git on remote repositories\n",
    "\n",
    "So far we have only looked at what happens when we have a single user not we will look at the case when you are writing code collaboratively.  Here git is essential for managing conflicts associated with multiple people working on the same files simultaneously.  To do this generally put a `master` version of the git repository somewhere everyone in the collaboration can see, either a local server or a git hosting service like github, https://github.com, or https://bitbucket.org.\n",
    "\n",
    "Once the master repository is somewhere everyone can see we need to make a local copy for us to work on (ideally no-one should work on the master but this is perfectly possible, you can have a system with no central repository and you just send changes to each other directly but this can be tricky).  To create our local repository use "
   ]
  },
  {
   "cell_type": "code",
   "execution_count": null,
   "metadata": {},
   "outputs": [],
   "source": [
    "git clone 'repository to clone'"
   ]
  },
  {
   "cell_type": "markdown",
   "metadata": {},
   "source": [
    "This creates a local version of the repository for us to work on. Now we have two commands to manage interaction with the remote repository, `fetch` and `push`.\n",
    "\n",
    "Unless you have just cloned the repository the first thing you should do before starting work is:"
   ]
  },
  {
   "cell_type": "code",
   "execution_count": null,
   "metadata": {},
   "outputs": [],
   "source": [
    "git fetch origin"
   ]
  },
  {
   "cell_type": "markdown",
   "metadata": {},
   "source": [
    "This gets a new copy of the remote repository (we can leave out `origin` as it defaults to this anyway). Next we have to merge it with ours using `git merge origin/master`, checking for conflicts it with ours.  Once these are resolved we are now we are ready to start with everything up to date.\n",
    "\n",
    "Now we follow all the same steps as above edit->add->commit.  Once we are done with our changes we merge them with the remote repository with"
   ]
  },
  {
   "cell_type": "code",
   "execution_count": null,
   "metadata": {},
   "outputs": [],
   "source": [
    "git push origin master"
   ]
  },
  {
   "cell_type": "markdown",
   "metadata": {},
   "source": [
    "Provided no-one has edited the same files while we were working on, this will merge our changes with the remote repository.  If it fails because of conflicts then we will have to do a `fetch` and `merge` then try again.\n",
    "\n",
    "### Git style guides\n",
    "\n",
    "So that is the basic commands for using GIT so what should your workflow look like?  Most people just use git like this:\n",
    "\n",
    "![](Plots/git_cartoon.png)\n",
    "\n",
    "But it can pay to think about the workflow model you want to use, here we will look at a couple.\n",
    "\n",
    "The first is Trunk based workflow.  Here everyone works mostly on master, using branches for short tests.  Once you have a stable version you all like you branch it out as a 'release' of the code which saves it for eternity.  This works for small users.  For larger numbers you may mostly work on a branch then only commit back to master after checking for evil merges.  Often in large groups only senior developers would be able to commit to master.\n",
    "\n",
    "![](Plots/GIT_DAG_8.png)\n",
    "\n",
    "The second is git flow.  Here each person works mostly on a development branch, occasionally branching out tests.  Once each person has a stable version they merges there code back to master which everyone else has to pull to their branch.\n",
    "\n",
    "![](Plots/GIT_DAG_9.png)\n",
    "\n",
    "The first works for small teams who all know what the others are doing but saving code snapshots into versions makes it easy to find later (this is good for archiving code associated with specific data releases for experements).  Its pretty clean but will struggle when you have a large number of people.  The second is safer as you can work on your changes seperatly but because you are fairly independent merges can be trickier.\n",
    "\n",
    "### Exercises\n",
    "\n",
    "1. Make a directory and create a git repository in it.\n",
    "2. Create 3 blank files A.txt, B.txt, C.txt, add them to git then commit\n",
    "3. Create a branch, switch to it then create 2 more blank files D.txt, E.txt Add them then commit\n",
    "4. Switch between the master and branch and see how they change\n",
    "5. Add the text \"I'm in master\" to C.txt on the master then switch to the branch and add the text \"I'm in branch\" to C.txt\n",
    "6. Merge the branch and master and resolve the conflict\n",
    "\n",
    "7. When I say go, clone the remote repository \"test\"\n",
    "8. Add your name to the file \"names.txt\" then push it back to the master (due to conflicts this will be a race to get yours in before someone else changes it)\n",
    "\n",
    "There is a lot more you can do with git. You should also consider using it for tasks beyond just coding, eg for writing collaborative papers in latex. To learn more this is pretty useful: https://git-scm.com/doc  \n"
   ]
  },
  {
   "cell_type": "code",
   "execution_count": null,
   "metadata": {},
   "outputs": [],
   "source": []
  }
 ],
 "metadata": {
  "kernelspec": {
   "display_name": "Python 3",
   "language": "python",
   "name": "python3"
  },
  "language_info": {
   "codemirror_mode": {
    "name": "ipython",
    "version": 3
   },
   "file_extension": ".py",
   "mimetype": "text/x-python",
   "name": "python",
   "nbconvert_exporter": "python",
   "pygments_lexer": "ipython3",
   "version": "3.7.0"
  }
 },
 "nbformat": 4,
 "nbformat_minor": 2
}
